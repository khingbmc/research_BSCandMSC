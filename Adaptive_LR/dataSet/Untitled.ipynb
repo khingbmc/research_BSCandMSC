{
 "cells": [
  {
   "cell_type": "code",
   "execution_count": 1,
   "metadata": {},
   "outputs": [
    {
     "name": "stdout",
     "output_type": "stream",
     "text": [
      "['a1a', 'a2a', 'a3a', 'a4a', 'a5a', 'a6a', 'a7a', 'a8a', 'a9a', 'australian', 'australian_scale', 'breast-cancer', 'breast-cancer_scale', 'cod-rna', 'colon-cancer', 'covtype.binary', 'covtype.binary.scale', 'diabetes', 'diabetes_scale', 'duke-breast-cancer', 'fourclass', 'fourclass_scale', 'german.numer', 'german.numer_scale', 'gisette', 'heart', 'heart_scale', 'ijcnn1', 'ionosphere', 'leukemia', 'madelon', 'mushrooms', 'news20.binary', 'phishing', 'rcv1.binary', 'real-sim', 'skin_nonskin', 'splice', 'sonar', 'svmguide1', 'svmguide3', 'w1a', 'w2a', 'w3a', 'w4a', 'w5a', 'w6a', 'w7a', 'w8a', 'yacht', 'boston-housing', 'california-housing', 'concrete', 'energy', 'naval-propulsion', 'power-plant']\n"
     ]
    }
   ],
   "source": [
    "import dsdl\n",
    "\n",
    "print(dsdl.available_datasets())"
   ]
  },
  {
   "cell_type": "code",
   "execution_count": 2,
   "metadata": {},
   "outputs": [
    {
     "name": "stderr",
     "output_type": "stream",
     "text": [
      "\r",
      "0it [00:00, ?it/s]"
     ]
    },
    {
     "name": "stdout",
     "output_type": "stream",
     "text": [
      "    Downloading https://www.csie.ntu.edu.tw/~cjlin/libsvmtools/datasets/binary/a1a to /Users/_kkhinnng/data/dsdl/a1a/a1a\n"
     ]
    },
    {
     "name": "stderr",
     "output_type": "stream",
     "text": [
      " 36%|███▌      | 40960/114818 [00:00<00:00, 263419.78it/s]\n",
      "0it [00:00, ?it/s]\u001b[A"
     ]
    },
    {
     "name": "stdout",
     "output_type": "stream",
     "text": [
      "    Extracting /Users/_kkhinnng/data/dsdl/a1a/a1a to /Users/_kkhinnng/data/dsdl/a1a\n",
      "    - Nothing to extract in /Users/_kkhinnng/data/dsdl/a1a/a1a\n",
      "    Downloading https://www.csie.ntu.edu.tw/~cjlin/libsvmtools/datasets/binary/a1a.t to /Users/_kkhinnng/data/dsdl/a1a/a1a.t\n"
     ]
    },
    {
     "name": "stderr",
     "output_type": "stream",
     "text": [
      "\n",
      "  0%|          | 0/2215057 [00:00<?, ?it/s]\u001b[A\n",
      "  2%|▏         | 49152/2215057 [00:00<00:06, 316358.40it/s]\u001b[A\n",
      " 10%|▉         | 212992/2215057 [00:00<00:05, 398263.20it/s]\u001b[A\n",
      " 23%|██▎       | 507904/2215057 [00:00<00:03, 537666.52it/s]\u001b[A\n",
      " 47%|████▋     | 1032192/2215057 [00:00<00:01, 735121.01it/s]\u001b[A\n",
      " 70%|███████   | 1556480/2215057 [00:01<00:00, 982752.21it/s]\u001b[A\n",
      " 84%|████████▍ | 1859584/2215057 [00:01<00:00, 1222727.08it/s]\u001b[A\n",
      " 98%|█████████▊| 2179072/2215057 [00:01<00:00, 1492500.30it/s]\u001b[A"
     ]
    },
    {
     "name": "stdout",
     "output_type": "stream",
     "text": [
      "    Extracting /Users/_kkhinnng/data/dsdl/a1a/a1a.t to /Users/_kkhinnng/data/dsdl/a1a\n",
      "    - Nothing to extract in /Users/_kkhinnng/data/dsdl/a1a/a1a.t\n",
      "(1605, 119) (1605,)\n",
      "(30956, 123) (30956,)\n"
     ]
    }
   ],
   "source": [
    "# > ['a1a', 'a2a', 'a3a', 'a4a', 'a5a', 'a6a', 'a7a', 'a8a', 'a9a', 'australian', 'australian_scale', 'breast-cancer', 'breast-cancer_scale', 'cod-rna', 'colon-cancer', 'covtype.binary', 'covtype.binary.scale', 'criteo', 'diabetes', 'diabetes_scale', 'duke-breast-cancer', 'epsilon', 'fourclass', 'fourclass_scale', 'german.numer', 'german.numer_scale', 'gisette', 'heart', 'heart_scale', 'higgs', 'ijcnn1', 'ionosphere', 'kdd2010-algebra', 'kdd2010-bridge-to-algebra', 'kdd2010-bridge-to-algebra-raw', 'kdd2012', 'leukemia', 'madelon', 'mushrooms', 'news20.binary', 'phishing', 'rcv1.binary', 'real-sim', 'skin_nonskin', 'splice', 'splice_site', 'sonar', 'SUSY', 'svmguide1', 'svmguide3', 'w1a', 'w2a', 'w3a', 'w4a', 'w5a', 'w6a', 'w7a', 'w8a']\n",
    "ds = dsdl.load(\"a1a\")\n",
    "\n",
    "X, y = ds.get_train()\n",
    "print(X.shape, y.shape)\n",
    "# > (1605, 119) (1605,)\n",
    "\n",
    "X_te, y_te = ds.get_test()\n",
    "print(X_te.shape, y_te.shape)"
   ]
  },
  {
   "cell_type": "code",
   "execution_count": 7,
   "metadata": {},
   "outputs": [
    {
     "name": "stdout",
     "output_type": "stream",
     "text": [
      "  (0, 2)\t1.0\n",
      "  (0, 10)\t1.0\n",
      "  (0, 13)\t1.0\n",
      "  (0, 18)\t1.0\n",
      "  (0, 38)\t1.0\n",
      "  (0, 41)\t1.0\n",
      "  (0, 54)\t1.0\n",
      "  (0, 63)\t1.0\n",
      "  (0, 66)\t1.0\n",
      "  (0, 72)\t1.0\n",
      "  (0, 74)\t1.0\n",
      "  (0, 75)\t1.0\n",
      "  (0, 79)\t1.0\n",
      "  (0, 82)\t1.0\n",
      "  (1, 2)\t1.0\n",
      "  (1, 5)\t1.0\n",
      "  (1, 16)\t1.0\n",
      "  (1, 26)\t1.0\n",
      "  (1, 34)\t1.0\n",
      "  (1, 39)\t1.0\n",
      "  (1, 56)\t1.0\n",
      "  (1, 62)\t1.0\n",
      "  (1, 68)\t1.0\n",
      "  (1, 72)\t1.0\n",
      "  (1, 73)\t1.0\n",
      "  :\t:\n",
      "  (1603, 21)\t1.0\n",
      "  (1603, 35)\t1.0\n",
      "  (1603, 41)\t1.0\n",
      "  (1603, 47)\t1.0\n",
      "  (1603, 64)\t1.0\n",
      "  (1603, 70)\t1.0\n",
      "  (1603, 72)\t1.0\n",
      "  (1603, 73)\t1.0\n",
      "  (1603, 75)\t1.0\n",
      "  (1603, 79)\t1.0\n",
      "  (1603, 82)\t1.0\n",
      "  (1604, 3)\t1.0\n",
      "  (1604, 9)\t1.0\n",
      "  (1604, 14)\t1.0\n",
      "  (1604, 23)\t1.0\n",
      "  (1604, 37)\t1.0\n",
      "  (1604, 40)\t1.0\n",
      "  (1604, 51)\t1.0\n",
      "  (1604, 65)\t1.0\n",
      "  (1604, 66)\t1.0\n",
      "  (1604, 71)\t1.0\n",
      "  (1604, 73)\t1.0\n",
      "  (1604, 75)\t1.0\n",
      "  (1604, 81)\t1.0\n",
      "  (1604, 82)\t1.0\n"
     ]
    }
   ],
   "source": [
    "print(X)"
   ]
  },
  {
   "cell_type": "code",
   "execution_count": null,
   "metadata": {},
   "outputs": [],
   "source": []
  }
 ],
 "metadata": {
  "kernelspec": {
   "display_name": "Python 3",
   "language": "python",
   "name": "python3"
  },
  "language_info": {
   "codemirror_mode": {
    "name": "ipython",
    "version": 3
   },
   "file_extension": ".py",
   "mimetype": "text/x-python",
   "name": "python",
   "nbconvert_exporter": "python",
   "pygments_lexer": "ipython3",
   "version": "3.8.5"
  }
 },
 "nbformat": 4,
 "nbformat_minor": 4
}
